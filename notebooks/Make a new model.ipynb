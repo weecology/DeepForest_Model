{
 "cells": [
  {
   "cell_type": "markdown",
   "id": "standard-ethernet",
   "metadata": {},
   "source": [
    "# Modifying DeepForest-pytorch models and dataloaders"
   ]
  },
  {
   "cell_type": "markdown",
   "id": "japanese-person",
   "metadata": {},
   "source": [
    "The goal of this notebook is to show how we can make changes to the deepforest-pytorch model but still use the rest of the evaluation and data organization to get a benchmark score. This will allow us to offer improvements to the architecture while creating consistancy in train/test splits and evaluation procedures. This comes with two caveats. \n",
    "\n",
    "\n",
    "1. If you change the model, but do not change the dataloader, the model must take in batch of data in the same format as the base model, see example 1.\n",
    "2. If you change the model and the data loader, you must confirm that it predicts data in the same way as the base model to use the evaluation class, see example 2."
   ]
  },
  {
   "cell_type": "code",
   "execution_count": null,
   "id": "thorough-europe",
   "metadata": {},
   "outputs": [],
   "source": []
  }
 ],
 "metadata": {
  "kernelspec": {
   "display_name": "Python 3",
   "language": "python",
   "name": "python3"
  },
  "language_info": {
   "codemirror_mode": {
    "name": "ipython",
    "version": 3
   },
   "file_extension": ".py",
   "mimetype": "text/x-python",
   "name": "python",
   "nbconvert_exporter": "python",
   "pygments_lexer": "ipython3",
   "version": "3.8.6"
  }
 },
 "nbformat": 4,
 "nbformat_minor": 5
}
